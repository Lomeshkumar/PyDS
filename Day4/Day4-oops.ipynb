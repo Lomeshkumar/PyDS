{
 "cells": [
  {
   "cell_type": "markdown",
   "metadata": {},
   "source": [
    "# Object Oriented Programming"
   ]
  },
  {
   "cell_type": "markdown",
   "metadata": {},
   "source": [
    "#### Class Objects Provide Default Behavior\n",
    "\n",
    "* The **class** statement creates a class object and assigns it a name.\n",
    "* Assignments inside class statements make class attributes. \n",
    "* Class attributes provide object state and behavior.\n",
    "\n",
    "#### Instance Objects Are Concrete Items\n",
    "\n",
    "* Calling a class object like a function makes a new instance object. \n",
    "* Each instance object inherits class attributes and gets its own namespace.\n",
    "* Assignments to attributes of self in methods make per-instance attributes.\n",
    "\n",
    "#### Classes Are Customized by Inheritance\n",
    "\n",
    "* Superclasses are listed in parentheses in a class header.\n",
    "* Classes inherit attributes from their superclasses. \n",
    "* Instances inherit attributes from all accessible classes.\n",
    "* Each object.attribute reference invokes a new, independent search.\n",
    "* Logic changes are made by subclassing, not by changing superclasses.\n",
    "\n",
    "#### Classes Can Intercept Python Operators\n",
    "\n",
    "* Methods named with double underscores (\\_\\_X\\_\\_) are special hooks.\n",
    "* Such methods are called automatically when instances appear in built-in operations.\n",
    "* Classes may override most built-in type operations.\n",
    "* There are no defaults for common operator overloading methods, and none are required.\n",
    "* Operators allow classes to integrate with Python’s object model.\n"
   ]
  },
  {
   "cell_type": "markdown",
   "metadata": {},
   "source": [
    "## An Example "
   ]
  },
  {
   "cell_type": "code",
   "execution_count": 1,
   "metadata": {},
   "outputs": [],
   "source": [
    "# Making Instance\n",
    "class Person:\n",
    "    def __init__(self, name, job=None, pay=0):       # Coding Constructors\n",
    "        self.name = name\n",
    "        self.job = job\n",
    "        self.pay = pay\n",
    "    \n",
    "    # Adding Behavior Methods\n",
    "    def lastName(self): # Behavior methods\n",
    "        return self.name.split()[-1] # self is implied subject\n",
    "    \n",
    "    def giveRaise(self, percent):\n",
    "        self.pay = int(self.pay * (1 + percent))\n",
    "    \n",
    "    # Operator Overloading\n",
    "    def __str__(self): \n",
    "        return '[Person: %s, %s]' % (self.name, self.pay)"
   ]
  },
  {
   "cell_type": "code",
   "execution_count": 26,
   "metadata": {},
   "outputs": [
    {
     "data": {
      "text/plain": [
       "120000"
      ]
     },
     "execution_count": 26,
     "metadata": {},
     "output_type": "execute_result"
    }
   ],
   "source": [
    "a = Person('Sara Conner')\n",
    "a.pay = 100000\n",
    "a.giveRaise(.20)\n",
    "a.pay"
   ]
  },
  {
   "cell_type": "code",
   "execution_count": 17,
   "metadata": {},
   "outputs": [],
   "source": [
    "# Inherit, Customize, and Extend\n",
    "class Manager(Person):\n",
    "    \n",
    "    def __init__(self, name, pay): # Redefine constructor\n",
    "        #Person.__init__(self, name, 'mgr', pay)\n",
    "        super(Manager, self).__init__(name, 'mgr', pay)\n",
    "    \n",
    "    def giveRaise(self, percent, bonus=.10):       \n",
    "        Person.giveRaise(self, percent + bonus)"
   ]
  },
  {
   "cell_type": "code",
   "execution_count": 28,
   "metadata": {},
   "outputs": [
    {
     "data": {
      "text/plain": [
       "65000"
      ]
     },
     "execution_count": 28,
     "metadata": {},
     "output_type": "execute_result"
    }
   ],
   "source": [
    "x = Manager(\"Tim Cook\", 50000)\n",
    "x.giveRaise(.2)\n",
    "x.pay"
   ]
  },
  {
   "cell_type": "markdown",
   "metadata": {},
   "source": [
    "## Methods "
   ]
  },
  {
   "cell_type": "code",
   "execution_count": 7,
   "metadata": {},
   "outputs": [],
   "source": [
    "class Spam:\n",
    "    numInstances = 0\n",
    "    \n",
    "    def __init__(self):\n",
    "        Spam.numInstances = Spam.numInstances + 1\n",
    "    \n",
    "    def printNumInstances(self):\n",
    "        print(\"Number of instances created: %s\" % Spam.numInstances)"
   ]
  },
  {
   "cell_type": "code",
   "execution_count": 8,
   "metadata": {},
   "outputs": [],
   "source": [
    "a = Spam()\n",
    "b = Spam()\n",
    "c = Spam()"
   ]
  },
  {
   "cell_type": "code",
   "execution_count": 9,
   "metadata": {},
   "outputs": [
    {
     "ename": "TypeError",
     "evalue": "printNumInstances() missing 1 required positional argument: 'self'",
     "output_type": "error",
     "traceback": [
      "\u001b[0;31m---------------------------------------------------------------------------\u001b[0m",
      "\u001b[0;31mTypeError\u001b[0m                                 Traceback (most recent call last)",
      "\u001b[0;32m<ipython-input-9-c674a607367f>\u001b[0m in \u001b[0;36m<module>\u001b[0;34m\u001b[0m\n\u001b[0;32m----> 1\u001b[0;31m \u001b[0mSpam\u001b[0m\u001b[0;34m.\u001b[0m\u001b[0mprintNumInstances\u001b[0m\u001b[0;34m(\u001b[0m\u001b[0;34m)\u001b[0m\u001b[0;34m\u001b[0m\u001b[0;34m\u001b[0m\u001b[0m\n\u001b[0m\u001b[1;32m      2\u001b[0m \u001b[0ma\u001b[0m\u001b[0;34m.\u001b[0m\u001b[0mprintNumInstances\u001b[0m\u001b[0;34m(\u001b[0m\u001b[0;34m)\u001b[0m\u001b[0;34m\u001b[0m\u001b[0;34m\u001b[0m\u001b[0m\n\u001b[1;32m      3\u001b[0m \u001b[0;31m#Spam().printNumInstances() # But fetching counter changes counter!\u001b[0m\u001b[0;34m\u001b[0m\u001b[0;34m\u001b[0m\u001b[0;34m\u001b[0m\u001b[0m\n",
      "\u001b[0;31mTypeError\u001b[0m: printNumInstances() missing 1 required positional argument: 'self'"
     ]
    }
   ],
   "source": [
    "Spam.printNumInstances()\n",
    "a.printNumInstances()\n",
    "#Spam().printNumInstances() # But fetching counter changes counter!"
   ]
  },
  {
   "cell_type": "code",
   "execution_count": null,
   "metadata": {},
   "outputs": [],
   "source": [
    "class Methods:\n",
    "    def imeth(self, x): # Normal instance method: passed a self\n",
    "        print([self, x])\n",
    "    \n",
    "    @staticmethod\n",
    "    def smeth(): # Static: no instance passed\n",
    "        print('no argument')\n",
    "    \n",
    "    @classmethod\n",
    "    def cmeth(cls, x): # Class: gets class, not instance\n",
    "        print([cls, x])\n",
    "        \n",
    "    #smeth = staticmethod(smeth) # Make smeth a static method (or @: ahead)\n",
    "    #cmeth = classmethod(cmeth) # Make cmeth a class method (or @: ahead)"
   ]
  },
  {
   "cell_type": "markdown",
   "metadata": {},
   "source": [
    "### Counting using static methods"
   ]
  },
  {
   "cell_type": "code",
   "execution_count": 12,
   "metadata": {},
   "outputs": [],
   "source": [
    "class Spam:\n",
    "    numInstances = 0 # Use static method for class data\n",
    "    \n",
    "    def __init__(self):\n",
    "        Spam.numInstances += 1\n",
    "    \n",
    "    @staticmethod\n",
    "    def printNumInstances():\n",
    "        print(\"Number of instances: %s\" % Spam.numInstances)\n",
    "    \n",
    "    #printNumInstances = staticmethod(printNumInstances)"
   ]
  },
  {
   "cell_type": "code",
   "execution_count": 11,
   "metadata": {},
   "outputs": [
    {
     "name": "stdout",
     "output_type": "stream",
     "text": [
      "Number of instances: 1\n"
     ]
    }
   ],
   "source": [
    "a = Spam()\n",
    "Spam.printNumInstances()"
   ]
  },
  {
   "cell_type": "markdown",
   "metadata": {},
   "source": [
    "### Counting using classmethods"
   ]
  },
  {
   "cell_type": "code",
   "execution_count": 13,
   "metadata": {},
   "outputs": [],
   "source": [
    "# Class Method\n",
    "class Spam:\n",
    "    numInstances = 0 # Use class method instead of static\n",
    "    \n",
    "    def __init__(self):\n",
    "        Spam.numInstances += 1\n",
    "    \n",
    "    @classmethod\n",
    "    def printNumInstances(cls):\n",
    "        print(\"Number of instances: %s\" % cls.numInstances)\n",
    "    \n",
    "    #printNumInstances = classmethod(printNumInstances)"
   ]
  },
  {
   "cell_type": "code",
   "execution_count": 14,
   "metadata": {},
   "outputs": [
    {
     "name": "stdout",
     "output_type": "stream",
     "text": [
      "Number of instances: 2\n",
      "Number of instances: 2\n"
     ]
    }
   ],
   "source": [
    "a, b = Spam(), Spam()\n",
    "#a.printNumInstances()\n",
    "Spam.printNumInstances()"
   ]
  },
  {
   "cell_type": "markdown",
   "metadata": {},
   "source": [
    "## Operator Overloading\n",
    "\n",
    "Operator overloading simply means intercepting built-in operations in a class’s\n",
    "methods—Python automatically invokes your methods when instances of the class\n",
    "appear in built-in operations, and your method’s return value becomes the result of the\n",
    "corresponding operation. \n",
    "\n",
    "* Operator overloading lets classes intercept normal Python operations.\n",
    "* Classes can overload all Python expression operators.\n",
    "* Classes can also overload built-in operations such as printing, function calls, attribute access, etc.\n",
    "* Overloading makes class instances act more like built-in types.\n",
    "* Overloading is implemented by providing specially named methods in a class."
   ]
  },
  {
   "cell_type": "code",
   "execution_count": 23,
   "metadata": {},
   "outputs": [],
   "source": [
    "class RationalNumber:\n",
    "    def __init__(self, numerator, denominator=1):\n",
    "        self.n = numerator\n",
    "        self.d = denominator\n",
    "    \n",
    "    def __add__(self, other):\n",
    "        if not isinstance(other, RationalNumber):\n",
    "            other = RationalNumber(other)\n",
    "            \n",
    "        n = self.n * other.d + self.d*other.n\n",
    "        d = self.d * other.d\n",
    "        return RationalNumber(n, d)\n",
    "    \n",
    "    def __sub__(self, other):\n",
    "        if not isinstance(other, RationalNumber):\n",
    "            other = RationalNumber(other)\n",
    "            \n",
    "        n1, d1 = self.n, other.d\n",
    "        n2, d2 = other.n, other.d\n",
    "        return RationalNumber(n1*d2 - n2*d1, d1*d2)\n",
    "    \n",
    "    def __mul__(self, other):\n",
    "        if not isinstance(other, RationalNumber):\n",
    "            other = RationalNumber(other)\n",
    "        \n",
    "        n1, d1 = self.n, self.d\n",
    "        n2, d2 = other.n, other.d\n",
    "        return RationalNumber(n1*n2, d1*d2)\n",
    "    \n",
    "    def __div__(self, other):\n",
    "        if not isinstance(other, RationalNumber):\n",
    "            other = RationalNumber(other)\n",
    "        \n",
    "        n1, d1 = self.n, self.d\n",
    "        n2, d2 = other.n, other.d\n",
    "        return RationalNumber(n1*d2, d1*n2)\n",
    "    \n",
    "    def __str__(self):\n",
    "        return \"%s/%s\" % (self.n, self.d)\n",
    "    \n",
    "    __repr__ = __str__"
   ]
  },
  {
   "cell_type": "code",
   "execution_count": 24,
   "metadata": {},
   "outputs": [],
   "source": [
    "r1 = RationalNumber(2,5)\n",
    "r2 = RationalNumber(3,7)\n"
   ]
  },
  {
   "cell_type": "code",
   "execution_count": 26,
   "metadata": {},
   "outputs": [
    {
     "data": {
      "text/plain": [
       "37/5"
      ]
     },
     "execution_count": 26,
     "metadata": {},
     "output_type": "execute_result"
    }
   ],
   "source": [
    "r1 + 7"
   ]
  }
 ],
 "metadata": {
  "kernelspec": {
   "display_name": "Python 3",
   "language": "python",
   "name": "python3"
  },
  "language_info": {
   "codemirror_mode": {
    "name": "ipython",
    "version": 3
   },
   "file_extension": ".py",
   "mimetype": "text/x-python",
   "name": "python",
   "nbconvert_exporter": "python",
   "pygments_lexer": "ipython3",
   "version": "3.7.2"
  }
 },
 "nbformat": 4,
 "nbformat_minor": 2
}
