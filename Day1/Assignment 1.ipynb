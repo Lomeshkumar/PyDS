{
 "cells": [
  {
   "cell_type": "markdown",
   "metadata": {},
   "source": [
    "1. Make a python plotting library using turtle drawing module.\n",
    "   This library must have these three feature\n",
    "   1. Take a list of data for x-axis and y-axis and plot it. You can do plotting of multiple fucntion at same time.\n",
    "   2. Take dictionary of name and value and draw pie-chart\n",
    "   3. Take list of 2-tuples - variable and value and plot Histogram"
   ]
  }
 ],
 "metadata": {
  "kernelspec": {
   "display_name": "Python 3",
   "language": "python",
   "name": "python3"
  },
  "language_info": {
   "codemirror_mode": {
    "name": "ipython",
    "version": 3
   },
   "file_extension": ".py",
   "mimetype": "text/x-python",
   "name": "python",
   "nbconvert_exporter": "python",
   "pygments_lexer": "ipython3",
   "version": "3.7.2"
  }
 },
 "nbformat": 4,
 "nbformat_minor": 2
}
