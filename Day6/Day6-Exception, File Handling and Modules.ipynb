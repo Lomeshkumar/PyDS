{
 "cells": [
  {
   "cell_type": "markdown",
   "metadata": {},
   "source": [
    "## Exception"
   ]
  },
  {
   "cell_type": "code",
   "execution_count": 3,
   "metadata": {},
   "outputs": [
    {
     "name": "stdout",
     "output_type": "stream",
     "text": [
      "got exception\n"
     ]
    }
   ],
   "source": [
    "# Error handling, Event notification, Special-case handling, Termination actions, Unusual control flows\n",
    "\n",
    "## CATCHING EXCEPTION\n",
    "\n",
    "def fetcher(obj, index):\n",
    "    return obj[index]\n",
    "\n",
    "x = 'spam'\n",
    "#fetcher(x, 3)\n",
    "\n",
    "#fetcher(x, 4)\n",
    "try:\n",
    "    fetcher(x, 4)\n",
    "except IndexError: # Catch and recover\n",
    "    print('got exception')   "
   ]
  },
  {
   "cell_type": "markdown",
   "metadata": {},
   "source": [
    "## Raising Exception"
   ]
  },
  {
   "cell_type": "code",
   "execution_count": null,
   "metadata": {},
   "outputs": [],
   "source": [
    "raise IndexError"
   ]
  },
  {
   "cell_type": "code",
   "execution_count": 5,
   "metadata": {},
   "outputs": [
    {
     "ename": "AssertionError",
     "evalue": "Nobody expects the Spanish Inquisition!",
     "output_type": "error",
     "traceback": [
      "\u001b[0;31m---------------------------------------------------------------------------\u001b[0m",
      "\u001b[0;31mAssertionError\u001b[0m                            Traceback (most recent call last)",
      "\u001b[0;32m<ipython-input-5-5c254f233f38>\u001b[0m in \u001b[0;36m<module>\u001b[0;34m\u001b[0m\n\u001b[1;32m      1\u001b[0m \u001b[0;31m#raise IndexError\u001b[0m\u001b[0;34m\u001b[0m\u001b[0;34m\u001b[0m\u001b[0;34m\u001b[0m\u001b[0m\n\u001b[1;32m      2\u001b[0m \u001b[0ma\u001b[0m \u001b[0;34m=\u001b[0m \u001b[0;36m2\u001b[0m\u001b[0;34m\u001b[0m\u001b[0;34m\u001b[0m\u001b[0m\n\u001b[0;32m----> 3\u001b[0;31m \u001b[0;32massert\u001b[0m \u001b[0ma\u001b[0m\u001b[0;34m!=\u001b[0m\u001b[0;36m2\u001b[0m\u001b[0;34m,\u001b[0m \u001b[0;34m'Nobody expects the Spanish Inquisition!'\u001b[0m  \u001b[0;31m# used for debugging\u001b[0m\u001b[0;34m\u001b[0m\u001b[0;34m\u001b[0m\u001b[0m\n\u001b[0m",
      "\u001b[0;31mAssertionError\u001b[0m: Nobody expects the Spanish Inquisition!"
     ]
    }
   ],
   "source": [
    "a = 2\n",
    "assert a!=2, 'Nobody expects the Spanish Inquisition!'  # used for debugging"
   ]
  },
  {
   "cell_type": "markdown",
   "metadata": {},
   "source": [
    "### User Defined Exception"
   ]
  },
  {
   "cell_type": "code",
   "execution_count": 6,
   "metadata": {},
   "outputs": [
    {
     "name": "stdout",
     "output_type": "stream",
     "text": [
      "got exception\n"
     ]
    }
   ],
   "source": [
    "class AlreadyGotOne(Exception): pass\n",
    "\n",
    "def grail():\n",
    "    raise AlreadyGotOne()\n",
    "\n",
    "try:\n",
    "    grail()\n",
    "except AlreadyGotOne: # Catch class name\n",
    "    print('got exception')"
   ]
  },
  {
   "cell_type": "code",
   "execution_count": 7,
   "metadata": {},
   "outputs": [
    {
     "ename": "Career",
     "evalue": "So I became a waiter...",
     "output_type": "error",
     "traceback": [
      "\u001b[0;31m---------------------------------------------------------------------------\u001b[0m",
      "\u001b[0;31mCareer\u001b[0m                                    Traceback (most recent call last)",
      "\u001b[0;32m<ipython-input-7-22cfed2f2926>\u001b[0m in \u001b[0;36m<module>\u001b[0;34m\u001b[0m\n\u001b[1;32m      2\u001b[0m     \u001b[0;32mdef\u001b[0m \u001b[0m__str__\u001b[0m\u001b[0;34m(\u001b[0m\u001b[0mself\u001b[0m\u001b[0;34m)\u001b[0m\u001b[0;34m:\u001b[0m \u001b[0;32mreturn\u001b[0m \u001b[0;34m'So I became a waiter...'\u001b[0m\u001b[0;34m\u001b[0m\u001b[0;34m\u001b[0m\u001b[0m\n\u001b[1;32m      3\u001b[0m \u001b[0;34m\u001b[0m\u001b[0m\n\u001b[0;32m----> 4\u001b[0;31m \u001b[0;32mraise\u001b[0m \u001b[0mCareer\u001b[0m\u001b[0;34m(\u001b[0m\u001b[0;34m)\u001b[0m\u001b[0;34m\u001b[0m\u001b[0;34m\u001b[0m\u001b[0m\n\u001b[0m",
      "\u001b[0;31mCareer\u001b[0m: So I became a waiter..."
     ]
    }
   ],
   "source": [
    "class Career(Exception):\n",
    "    def __str__(self): return 'So I became a waiter...'\n",
    "\n",
    "raise Career()"
   ]
  },
  {
   "cell_type": "markdown",
   "metadata": {},
   "source": [
    "## Reading and Writing Files"
   ]
  },
  {
   "cell_type": "code",
   "execution_count": 8,
   "metadata": {},
   "outputs": [],
   "source": [
    "xyz = open(\"file.txt\", \"w\")\n",
    "a = \"TWINKLE TWINKLE LITTLE STAR\"\n",
    "b = \"HOW I WONDER WHAT YOU ARE\"\n",
    "c = \"UP ABOVE THE WORLD SO HIGH\"\n",
    "d = \"LIKE A DIAMOND IN THE SKY\"\n",
    "\n",
    "xyz.write(f\"{a}\\n{b}\\n{c}\\n{d}\")\n",
    "xyz.close()\n",
    "\n",
    "abc = open(\"file2\", \"w\")\n",
    "lines = [a, b, c, d]\n",
    "abc.writelines(lines)\n",
    "abc.close()"
   ]
  },
  {
   "cell_type": "code",
   "execution_count": 9,
   "metadata": {},
   "outputs": [
    {
     "name": "stdout",
     "output_type": "stream",
     "text": [
      "TWINKLE TWINKLE LITTLE STAR\n",
      "HOW I WONDER WHAT YOU ARE\n",
      "UP ABOVE THE WORLD SO HIGH\n",
      "LIKE A DIAMOND IN THE SKY\n",
      "TWINKLE TWINKLE LITTLE STARHOW I WONDER WHAT YOU AREUP ABOVE THE WORLD SO HIGHLIKE A DIAMOND IN THE SKY\n"
     ]
    }
   ],
   "source": [
    "xyz = open(\"file.txt\", \"r\")\n",
    "abc = open(\"file2\", \"r\")\n",
    "all1 = xyz.read()\n",
    "all2 = abc.read()\n",
    "print(all1)\n",
    "print(all2)\n",
    "xyz.close()\n",
    "abc.close()"
   ]
  },
  {
   "cell_type": "code",
   "execution_count": 13,
   "metadata": {},
   "outputs": [
    {
     "name": "stdout",
     "output_type": "stream",
     "text": [
      "TWINKLE TWINKLE LITTLE STAR\n",
      "\n",
      "HOW I WONDER WHAT YOU ARE\n",
      "\n",
      "54\n",
      "['UP ABOVE THE WORLD SO HIGH\\n', 'LIKE A DIAMOND IN THE SKY']\n"
     ]
    }
   ],
   "source": [
    "xyz = open(\"file.txt\", \"r\")\n",
    "a = xyz.readline()\n",
    "a2 = xyz.readline()\n",
    "print(a)\n",
    "print(a2)\n",
    "print(xyz.tell())\n",
    "b = xyz.readlines()\n",
    "print(b)\n",
    "xyz.close()"
   ]
  },
  {
   "cell_type": "markdown",
   "metadata": {},
   "source": [
    "## Modules"
   ]
  },
  {
   "cell_type": "code",
   "execution_count": 21,
   "metadata": {},
   "outputs": [],
   "source": [
    "#import math\n",
    "#import math as m\n",
    "from math import sin"
   ]
  },
  {
   "cell_type": "code",
   "execution_count": 22,
   "metadata": {},
   "outputs": [
    {
     "data": {
      "text/plain": [
       "0.9129452507276277"
      ]
     },
     "execution_count": 22,
     "metadata": {},
     "output_type": "execute_result"
    }
   ],
   "source": [
    "sin(20)"
   ]
  },
  {
   "cell_type": "code",
   "execution_count": null,
   "metadata": {},
   "outputs": [],
   "source": [
    "dir(math)"
   ]
  },
  {
   "cell_type": "code",
   "execution_count": null,
   "metadata": {},
   "outputs": [],
   "source": [
    "help(math.sin)\n",
    "__init__.py"
   ]
  },
  {
   "cell_type": "code",
   "execution_count": null,
   "metadata": {},
   "outputs": [],
   "source": []
  }
 ],
 "metadata": {
  "kernelspec": {
   "display_name": "Python 3",
   "language": "python",
   "name": "python3"
  },
  "language_info": {
   "codemirror_mode": {
    "name": "ipython",
    "version": 3
   },
   "file_extension": ".py",
   "mimetype": "text/x-python",
   "name": "python",
   "nbconvert_exporter": "python",
   "pygments_lexer": "ipython3",
   "version": "3.7.2"
  }
 },
 "nbformat": 4,
 "nbformat_minor": 2
}
