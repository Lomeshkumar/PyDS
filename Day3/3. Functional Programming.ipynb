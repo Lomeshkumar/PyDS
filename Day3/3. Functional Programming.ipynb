{
 "cells": [
  {
   "cell_type": "markdown",
   "metadata": {},
   "source": [
    "## Function as first class citizen\n",
    "\n",
    "In python function are first class citizen -  You can assign them to variables, store them in data structures, pass them as arguments to other functions, and even return them as values from other functions."
   ]
  },
  {
   "cell_type": "code",
   "execution_count": 19,
   "metadata": {},
   "outputs": [
    {
     "name": "stdout",
     "output_type": "stream",
     "text": [
      "<function square at 0x7f15fce3d1e0>\n",
      "25\n"
     ]
    }
   ],
   "source": [
    "def square(x):\n",
    "    return x*x\n",
    "\n",
    "#f = square(5)   \n",
    "#print(square)\n",
    "#print(f)\n",
    "\n",
    "f = square         # assigned function to a variable\n",
    "print(f)\n",
    "print(f(5))"
   ]
  },
  {
   "cell_type": "code",
   "execution_count": null,
   "metadata": {},
   "outputs": [],
   "source": [
    "def my_map(func, arg_list): # taking function as argument\n",
    "    result = []\n",
    "    for i in arg_list:\n",
    "        result.append(func(i))\n",
    "    return result\n",
    "\n",
    "squares = my_map(square, [1,2,3,4,5])\n",
    "squares"
   ]
  },
  {
   "cell_type": "code",
   "execution_count": 20,
   "metadata": {},
   "outputs": [
    {
     "data": {
      "text/plain": [
       "['a', 'local', 'from', 'function', 'hello']"
      ]
     },
     "execution_count": 20,
     "metadata": {},
     "output_type": "execute_result"
    }
   ],
   "source": [
    "def sort_by_last_letter(strings):\n",
    "    def last_letter(s):                       # Local function\n",
    "        return s[-1]\n",
    "    #print(last_letter)                       # uncomment and call multiple times, see the address of function.\n",
    "    return sorted(strings, key=last_letter)   # returning a function\n",
    "\n",
    "sort_by_last_letter(['hello', 'from', 'a', 'local', 'function'])"
   ]
  },
  {
   "cell_type": "markdown",
   "metadata": {},
   "source": [
    "## Variables Scope\n",
    "\n",
    "*  **LEGB** rule for name lookup: first the Local scope is checked, then any Enclosing scope, next the\n",
    "   Global scope, and finally the Builtin scope"
   ]
  },
  {
   "cell_type": "code",
   "execution_count": 21,
   "metadata": {},
   "outputs": [
    {
     "name": "stdout",
     "output_type": "stream",
     "text": [
      "0\n",
      "0\n"
     ]
    }
   ],
   "source": [
    "count = 0\n",
    "\n",
    "def show_count():\n",
    "    print(count)\n",
    "    \n",
    "def set_count(c):\n",
    "    count = c\n",
    "\n",
    "show_count()\n",
    "set_count(5)\n",
    "show_count()"
   ]
  },
  {
   "cell_type": "markdown",
   "metadata": {},
   "source": [
    "### The global  and nonlocal keyword"
   ]
  },
  {
   "cell_type": "code",
   "execution_count": 22,
   "metadata": {},
   "outputs": [
    {
     "name": "stdout",
     "output_type": "stream",
     "text": [
      "global message: global\n",
      "enclosing message: enclosing\n",
      "enclosing message: enclosing\n",
      "global message: global\n"
     ]
    }
   ],
   "source": [
    "message = 'global'\n",
    "\n",
    "def enclosing():\n",
    "    message = 'enclosing'\n",
    "    def local():\n",
    "        message = 'local'\n",
    "    print('enclosing message:', message)\n",
    "    local()\n",
    "    print('enclosing message:', message)\n",
    "\n",
    "print('global message:', message)\n",
    "enclosing()\n",
    "print('global message:', message)"
   ]
  },
  {
   "cell_type": "code",
   "execution_count": 23,
   "metadata": {
    "scrolled": true
   },
   "outputs": [
    {
     "name": "stdout",
     "output_type": "stream",
     "text": [
      "global message: global\n",
      "enclosing message: enclosing\n",
      "enclosing message: enclosing\n",
      "global message: local\n"
     ]
    }
   ],
   "source": [
    "message = 'global'\n",
    "\n",
    "def enclosing():\n",
    "    message = 'enclosing'\n",
    "    def local():\n",
    "        global message                    \n",
    "        message = 'local'\n",
    "    print('enclosing message:', message)\n",
    "    local()\n",
    "    print('enclosing message:', message)\n",
    "\n",
    "print('global message:', message)\n",
    "enclosing()\n",
    "print('global message:', message)"
   ]
  },
  {
   "cell_type": "code",
   "execution_count": 24,
   "metadata": {},
   "outputs": [
    {
     "name": "stdout",
     "output_type": "stream",
     "text": [
      "global message: global\n",
      "enclosing message: enclosing\n",
      "enclosing message: local\n",
      "global message: global\n"
     ]
    }
   ],
   "source": [
    "message = 'global'\n",
    "\n",
    "def enclosing():\n",
    "    message = 'enclosing'\n",
    "    def local():\n",
    "        nonlocal message\n",
    "        message = 'local'\n",
    "    print('enclosing message:', message)\n",
    "    local()\n",
    "    print('enclosing message:', message)\n",
    "\n",
    "print('global message:', message)\n",
    "enclosing()\n",
    "print('global message:', message)"
   ]
  },
  {
   "cell_type": "markdown",
   "metadata": {},
   "source": [
    "## Closure\n",
    "\n",
    "That is, once a local function is returned from its enclosing scope, that enclosing scope is gone, along with any local objects it defined. How can the local function operate without that enclosing scope?\n",
    "\n",
    "The answer is that the local function forms what is known as a closure. A closure essentially\n",
    "remembers the objects from the enclosing scope that the local function needs. It then keeps\n",
    "them alive so that when the local function is executed they can still be used.\n",
    "\n",
    "If a function closes over any objects, then that function has a \\_\\_closure\\_\\_ attribute which maintains\n",
    "the necessary references to those objects. We can see that in a simple example:"
   ]
  },
  {
   "cell_type": "code",
   "execution_count": 26,
   "metadata": {},
   "outputs": [
    {
     "name": "stdout",
     "output_type": "stream",
     "text": [
      "closed over\n"
     ]
    },
    {
     "data": {
      "text/plain": [
       "(<cell at 0x7f15fc573468: str object at 0x7f15fc57e530>,)"
      ]
     },
     "execution_count": 26,
     "metadata": {},
     "output_type": "execute_result"
    }
   ],
   "source": [
    "def enclosing():\n",
    "    x = 'closed over'\n",
    "    def local_func():\n",
    "        print(x)\n",
    "    return local_func\n",
    "\n",
    "lf = enclosing()\n",
    "lf()\n",
    "lf.__closure__"
   ]
  },
  {
   "cell_type": "markdown",
   "metadata": {},
   "source": [
    "## Function factories\n",
    "\n",
    "These factories are functions that\n",
    "return other functions, where the returned functions are specialized in some way based on\n",
    "arguments to the factory"
   ]
  },
  {
   "cell_type": "code",
   "execution_count": 27,
   "metadata": {},
   "outputs": [
    {
     "data": {
      "text/plain": [
       "49"
      ]
     },
     "execution_count": 27,
     "metadata": {},
     "output_type": "execute_result"
    }
   ],
   "source": [
    "def raise_to(exp):               # Function Factory\n",
    "    def raise_to_exp(x):\n",
    "        return pow(x, exp)\n",
    "    return raise_to_exp\n",
    "\n",
    "square = raise_to(2) # exp = 2\n",
    "square(7) # x = 7   7^2"
   ]
  },
  {
   "cell_type": "code",
   "execution_count": 30,
   "metadata": {},
   "outputs": [],
   "source": [
    "# Another practical example of closure\n",
    "import time\n",
    "\n",
    "def make_timer():\n",
    "    last_called = None # Never\n",
    "    \n",
    "    def elapsed():\n",
    "        nonlocal last_called\n",
    "        now = time.time()\n",
    "        if last_called is None:\n",
    "            last_called = now\n",
    "            return None\n",
    "        result = now - last_called\n",
    "        last_called = now\n",
    "        return result\n",
    "    \n",
    "    return elapsed"
   ]
  },
  {
   "cell_type": "code",
   "execution_count": 31,
   "metadata": {},
   "outputs": [
    {
     "name": "stdout",
     "output_type": "stream",
     "text": [
      "None\n"
     ]
    }
   ],
   "source": [
    "t = make_timer()\n",
    "print(t())"
   ]
  },
  {
   "cell_type": "code",
   "execution_count": 35,
   "metadata": {},
   "outputs": [
    {
     "data": {
      "text/plain": [
       "1.711867094039917"
      ]
     },
     "execution_count": 35,
     "metadata": {},
     "output_type": "execute_result"
    }
   ],
   "source": [
    "t()"
   ]
  },
  {
   "cell_type": "markdown",
   "metadata": {},
   "source": [
    "## Decorator\n",
    "\n",
    "In Python, a decorator is a callable object that takes in a callable and returns a callable.\n",
    "At a high level, decorators are a way to modify or enhance existing functions in a non-intrusive\n",
    "and maintainable way.\n",
    "\n",
    "### Functions as callable objects"
   ]
  },
  {
   "cell_type": "code",
   "execution_count": 37,
   "metadata": {},
   "outputs": [],
   "source": [
    "def sum(a, b):\n",
    "    return a + b\n",
    "\n",
    "a = sum\n",
    "#dir(a)        # Find __call__ method"
   ]
  },
  {
   "cell_type": "code",
   "execution_count": 38,
   "metadata": {},
   "outputs": [
    {
     "name": "stdout",
     "output_type": "stream",
     "text": [
      "something is happening bfore function is called\n",
      "Hi MITRC\n",
      "something is happening after the function is called\n"
     ]
    }
   ],
   "source": [
    "def my_decorator(func):\n",
    "    def wrapper():\n",
    "        print(\"something is happening bfore function is called\")\n",
    "        func()\n",
    "        print(\"something is happening after the function is called\")\n",
    "    return wrapper\n",
    "\n",
    "def say_hi():\n",
    "    print(\"Hi MITRC\")\n",
    "\n",
    "say_hi = my_decorator(say_hi)\n",
    "say_hi()"
   ]
  },
  {
   "cell_type": "code",
   "execution_count": null,
   "metadata": {},
   "outputs": [],
   "source": [
    "@my_decorator   # Syntactic sugar !  @ syntax for decorator\n",
    "def say_hi():\n",
    "    print(\"Hello MITRC\")\n",
    "\n",
    "say_hi()"
   ]
  },
  {
   "cell_type": "code",
   "execution_count": 40,
   "metadata": {},
   "outputs": [
    {
     "name": "stdout",
     "output_type": "stream",
     "text": [
      "add() missing 1 required positional argument: 'y'\n"
     ]
    }
   ],
   "source": [
    "def exception_handler(original_fn):\n",
    "    def decorator_fn(*args, **kwargs):\n",
    "        try:\n",
    "            return original_fn(*args, **kwargs)\n",
    "        except Exception as err:\n",
    "            print(err)\n",
    "    return decorator_fn\n",
    " \n",
    "@exception_handler\n",
    "def add(x, y):\n",
    "    sum = x + y\n",
    "    print(sum)\n",
    "    return sum\n",
    "\n",
    "add(5)"
   ]
  },
  {
   "cell_type": "markdown",
   "metadata": {},
   "source": [
    "### Classes as decorators"
   ]
  },
  {
   "cell_type": "code",
   "execution_count": 41,
   "metadata": {},
   "outputs": [
    {
     "name": "stdout",
     "output_type": "stream",
     "text": [
      "Hello, Fred!\n",
      "Hello, Fred!\n",
      "Hello, Fred!\n"
     ]
    },
    {
     "data": {
      "text/plain": [
       "3"
      ]
     },
     "execution_count": 41,
     "metadata": {},
     "output_type": "execute_result"
    }
   ],
   "source": [
    "class CallCount:\n",
    "    def __init__(self, f):\n",
    "        self.f = f\n",
    "        self.count = 0\n",
    "    \n",
    "    def __call__(self, *args, **kwargs):\n",
    "        self.count += 1\n",
    "        return self.f(*args, **kwargs)\n",
    "    \n",
    "@CallCount\n",
    "def hello(name):\n",
    "    print('Hello, {}!'.format(name))\n",
    "\n",
    "\n",
    "hello('Fred')\n",
    "hello('Fred')\n",
    "hello('Fred')\n",
    "hello.count"
   ]
  },
  {
   "cell_type": "code",
   "execution_count": null,
   "metadata": {},
   "outputs": [],
   "source": []
  },
  {
   "cell_type": "markdown",
   "metadata": {},
   "source": [
    "### Instances as decorators"
   ]
  },
  {
   "cell_type": "code",
   "execution_count": null,
   "metadata": {},
   "outputs": [],
   "source": [
    "class Trace:\n",
    "    def __init__(self):\n",
    "        self.enabled = True\n",
    "    \n",
    "    def __call__(self, f):\n",
    "        def wrap(*args, **kwargs):\n",
    "            if self.enabled:\n",
    "                print('Calling {}'.format(f))\n",
    "            return f(*args, **kwargs)\n",
    "        return wrap\n",
    "    \n",
    "tracer = Trace()\n",
    "\n",
    "@tracer\n",
    "def rotate_list(l):\n",
    "    return l[1:] + [l[0]]\n",
    "\n",
    "l = [1, 2, 3]\n",
    "l = rotate_list(l)\n",
    "l"
   ]
  },
  {
   "cell_type": "markdown",
   "metadata": {},
   "source": [
    "### Multiple decorators"
   ]
  },
  {
   "cell_type": "code",
   "execution_count": 42,
   "metadata": {},
   "outputs": [
    {
     "name": "stdout",
     "output_type": "stream",
     "text": [
      "9\n",
      "Hello from two\n",
      "Hello from one\n"
     ]
    }
   ],
   "source": [
    "def add_decorator_one(original_fn):\n",
    "    def decorator_fn(*args, **kwargs):\n",
    "        original_fn(*args, **kwargs)\n",
    "        print(\"Hello from one\")\n",
    "    return decorator_fn\n",
    " \n",
    "def add_decorator_two(original_fn):\n",
    "    def decorator_fn(*args, **kwargs):\n",
    "        original_fn(*args, **kwargs)\n",
    "        print(\"Hello from two\")\n",
    "    return decorator_fn\n",
    "  \n",
    "@add_decorator_one\n",
    "@add_decorator_two\n",
    "def add(x, y):\n",
    "    print(x + y)\n",
    "\n",
    "add(4,5)"
   ]
  },
  {
   "cell_type": "markdown",
   "metadata": {},
   "source": [
    "### Decorating methods"
   ]
  },
  {
   "cell_type": "code",
   "execution_count": null,
   "metadata": {},
   "outputs": [],
   "source": [
    "class IslandMaker:\n",
    "    def __init__(self, suffix):\n",
    "        self.suffix = suffix\n",
    "    \n",
    "    @tracer\n",
    "    def make_island(self, name):\n",
    "        return name + self.suffix"
   ]
  },
  {
   "cell_type": "markdown",
   "metadata": {},
   "source": [
    "### Decorators and function metadata"
   ]
  },
  {
   "cell_type": "code",
   "execution_count": null,
   "metadata": {},
   "outputs": [],
   "source": [
    "def hello():\n",
    "    \"Print a well-known message.\"\n",
    "    print('Hello, world!')\n",
    "    \n",
    "hello.__name__"
   ]
  },
  {
   "cell_type": "code",
   "execution_count": null,
   "metadata": {},
   "outputs": [],
   "source": [
    "hello.__doc__"
   ]
  },
  {
   "cell_type": "code",
   "execution_count": null,
   "metadata": {},
   "outputs": [],
   "source": [
    "def noop(f):\n",
    "    def noop_wrapper():\n",
    "        return f()\n",
    "    return noop_wrapper\n",
    "\n",
    "@noop\n",
    "def hello():\n",
    "    \"Print a well-known message.\"\n",
    "    print('Hello, world!')\n",
    "\n",
    "hello.__name__\n",
    "#hello.__doc__"
   ]
  },
  {
   "cell_type": "code",
   "execution_count": null,
   "metadata": {},
   "outputs": [],
   "source": [
    "### Manually updating the Metadata\n",
    "\n",
    "def noop(f):\n",
    "    def noop_wrapper():\n",
    "        return f()\n",
    "    noop_wrapper.__name__ = f.__name__\n",
    "    noop_wrapper.__doc__ = f.__doc__\n",
    "    return noop_wrapper"
   ]
  },
  {
   "cell_type": "code",
   "execution_count": null,
   "metadata": {},
   "outputs": [],
   "source": [
    "# Updating decorator metadata with functools.wraps\n",
    "\n",
    "import functools\n",
    "\n",
    "def noop(f):\n",
    "    @functools.wraps(f)\n",
    "    def noop_wrapper():\n",
    "        return f()\n",
    "    return noop_wrapper"
   ]
  },
  {
   "cell_type": "markdown",
   "metadata": {},
   "source": [
    "### Decorator Factory\n",
    "\n",
    "A decorator factory is a\n",
    "function that returns a decorator; the actual decorator is customized based on the arguments\n",
    "to the factory."
   ]
  },
  {
   "cell_type": "code",
   "execution_count": null,
   "metadata": {},
   "outputs": [],
   "source": [
    "# A decorator factory: it returns decorators\n",
    "def check_non_negative(index):\n",
    "# This is the actual decorator\n",
    "    def validator(f):\n",
    "    # This is the wrapper function\n",
    "        def wrap(*args):\n",
    "            if args[index] < 0:\n",
    "                raise ValueError('Argument {} must be non-negative.'.format(index))\n",
    "            return f(*args)\n",
    "        return wrap\n",
    "    return validator\n",
    "\n",
    "@check_non_negative(1)\n",
    "def create_list(value, size):\n",
    "    return [value] * size"
   ]
  },
  {
   "cell_type": "code",
   "execution_count": null,
   "metadata": {},
   "outputs": [],
   "source": [
    "create_list('a', 3)"
   ]
  },
  {
   "cell_type": "code",
   "execution_count": null,
   "metadata": {},
   "outputs": [],
   "source": [
    "create_list(123, -6)"
   ]
  }
 ],
 "metadata": {
  "kernelspec": {
   "display_name": "Python 3",
   "language": "python",
   "name": "python3"
  },
  "language_info": {
   "codemirror_mode": {
    "name": "ipython",
    "version": 3
   },
   "file_extension": ".py",
   "mimetype": "text/x-python",
   "name": "python",
   "nbconvert_exporter": "python",
   "pygments_lexer": "ipython3",
   "version": "3.7.2"
  }
 },
 "nbformat": 4,
 "nbformat_minor": 2
}
