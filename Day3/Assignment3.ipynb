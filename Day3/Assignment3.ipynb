{
 "cells": [
  {
   "cell_type": "markdown",
   "metadata": {},
   "source": [
    "Make a decorator function **timeit** that can be used for profiling, such that when you decorate any function with **timeit** it will print :\n",
    "1. function name\n",
    "2. positional argument if any\n",
    "3. keyword argument, if any\n",
    "4. execution time of function"
   ]
  },
  {
   "cell_type": "code",
   "execution_count": null,
   "metadata": {},
   "outputs": [],
   "source": [
    "def timeit(func):\n",
    "    pass\n",
    "\n",
    "@timeit\n",
    "def myfun(4,5,x=7,y=8):\n",
    "    time.delay()\n",
    "    pass"
   ]
  }
 ],
 "metadata": {
  "kernelspec": {
   "display_name": "Python 3",
   "language": "python",
   "name": "python3"
  },
  "language_info": {
   "codemirror_mode": {
    "name": "ipython",
    "version": 3
   },
   "file_extension": ".py",
   "mimetype": "text/x-python",
   "name": "python",
   "nbconvert_exporter": "python",
   "pygments_lexer": "ipython3",
   "version": "3.7.2"
  }
 },
 "nbformat": 4,
 "nbformat_minor": 2
}
